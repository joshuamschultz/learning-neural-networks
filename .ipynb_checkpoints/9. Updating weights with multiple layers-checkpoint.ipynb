{
 "cells": [
  {
   "cell_type": "code",
   "execution_count": 14,
   "metadata": {},
   "outputs": [],
   "source": [
    "import numpy as np\n",
    "\n",
    "import matplotlib.pyplot as plt\n",
    "plt.style.use('seaborn-whitegrid')\n",
    "\n",
    "from sklearn.datasets import make_blobs"
   ]
  },
  {
   "cell_type": "code",
   "execution_count": 15,
   "metadata": {},
   "outputs": [
    {
     "data": {
      "text/plain": [
       "<matplotlib.collections.PathCollection at 0x1184a8fd0>"
      ]
     },
     "execution_count": 15,
     "metadata": {},
     "output_type": "execute_result"
    },
    {
     "data": {
      "image/png": "[encoded data removed]",
      "text/plain": [
       "<Figure size 432x288 with 1 Axes>"
      ]
     },
     "metadata": {},
     "output_type": "display_data"
    }
   ],
   "source": [
    "X, y = make_blobs(50, 2, centers=2, random_state=2, cluster_std=2)\n",
    "W = [.38, 0.65]\n",
    "plt.scatter(X[:,0], X[:,1], c=y, s=30, cmap='RdBu')\n",
    "\n"
   ]
  },
  {
   "cell_type": "code",
   "execution_count": 19,
   "metadata": {},
   "outputs": [],
   "source": [
    "# Setting functions\n",
    "\n",
    "def sigmoid(x):\n",
    "    return 1/(1+np.exp(-x))\n",
    "\n",
    "def sigmoid_prime(x):\n",
    "    return sigmoid(x) * (1 - sigmoid(x))\n",
    "\n",
    "def prime(x):\n",
    "    return x * (1- x)"
   ]
  },
  {
   "cell_type": "code",
   "execution_count": 17,
   "metadata": {},
   "outputs": [],
   "source": [
    "def perceptron(X,W):\n",
    "    inputs = np.array(X)\n",
    "    weights = np.array(W)\n",
    "    \n",
    "    prediction = inputs.dot(weights)\n",
    "    h = sigmoid(prediction)\n",
    "    \n",
    "    return h"
   ]
  },
  {
   "cell_type": "code",
   "execution_count": 31,
   "metadata": {},
   "outputs": [
    {
     "data": {
      "text/plain": [
       "array([8.21710007e-01, 3.18313087e-01, 2.54686244e-03, 7.35707716e-04,\n",
       "       5.33785663e-01, 3.39193374e-01, 3.75798210e-04, 1.70277380e-04,\n",
       "       1.10910026e-04, 2.78064608e-01, 4.82596288e-01, 1.24130095e-01,\n",
       "       3.12332182e-04, 1.88335144e-02, 8.20616382e-01, 6.37146941e-01,\n",
       "       7.41534674e-04, 6.81661411e-01, 6.32331612e-04, 8.82632618e-04,\n",
       "       1.68460199e-03, 7.15303602e-01, 5.84425169e-03, 3.59992761e-04,\n",
       "       6.79778747e-02, 2.77217042e-03, 7.09087144e-01, 8.97749781e-04,\n",
       "       7.72182415e-04, 1.77715065e-04, 9.94849326e-03, 3.73117177e-02,\n",
       "       6.20752711e-02, 2.35567696e-04, 3.87818534e-01, 3.30095099e-01,\n",
       "       4.11360717e-01, 4.29273658e-01, 2.96293811e-03, 8.96504593e-01,\n",
       "       7.10806710e-02, 8.56445634e-01, 6.89170951e-02, 2.18834941e-03,\n",
       "       4.34961948e-04, 7.05291285e-02, 5.41771589e-04, 3.93851243e-01,\n",
       "       2.61380258e-03, 5.46979519e-02])"
      ]
     },
     "execution_count": 31,
     "metadata": {},
     "output_type": "execute_result"
    }
   ],
   "source": [
    "prediction = perceptron(X, W)\n",
    "prediction"
   ]
  },
  {
   "cell_type": "code",
   "execution_count": 20,
   "metadata": {},
   "outputs": [],
   "source": [
    "# Setting variables\n",
    "learnrate = 0.5\n",
    "target = y[0]\n",
    "inputs = X[0]"
   ]
  },
  {
   "cell_type": "markdown",
   "metadata": {},
   "source": [
    "We are now going to calculate errors on multiple layer perceptrons.\n",
    "\n",
    "Starting backwards, the error is just as it was before,:\n",
    "1. Find the error\n",
    "2. Find the gradient\n",
    "3. Move down the gradient by a small amount (learning rate)\n",
    "4. Adjust the weights\n",
    "5. Try again!\n",
    "\n",
    "So we start with the final output and use the same approach as before. \n",
    "\n",
    "This time though, we have to find the hidden layer as well. The only difference here is that to find the error of the hidden level, we simply take the final output error term and work it backwards by the weights that got it there.\n",
    "So we take the error term which is (error * sigmoid_prime(input))\n",
    "and\n",
    "Multiply it by the weights that got it to the output, so the hidden to output weights, or the `who`.\n",
    "\n",
    "That becomes the error, and then we simply plug that into the formula to find the gradient and product the error term which is $$ error * sigmoid\\prime (h) $$"
   ]
  },
  {
   "cell_type": "markdown",
   "metadata": {},
   "source": [
    "To simplify I am going to start with only of the first row of data"
   ]
  },
  {
   "cell_type": "code",
   "execution_count": 29,
   "metadata": {},
   "outputs": [
    {
     "name": "stdout",
     "output_type": "stream",
     "text": [
      "[1.86024222 1.26320631]\n",
      "1\n"
     ]
    }
   ],
   "source": [
    "print(X[0])\n",
    "print(y[0])"
   ]
  },
  {
   "cell_type": "code",
   "execution_count": 28,
   "metadata": {},
   "outputs": [
    {
     "name": "stdout",
     "output_type": "stream",
     "text": [
      "weights input to hidden\n",
      "[[ 0.14959835 -0.07332081]\n",
      " [ 0.31986401 -0.0746493 ]]\n",
      "Initialized Weights\n",
      "[[ 0.14959835 -0.07332081]\n",
      " [ 0.31986401 -0.0746493 ]]\n",
      "[[ 0.07322274]\n",
      " [-0.02402864]]\n",
      "inputs\n",
      "[1.86024222 1.26320631]\n",
      "Hidden Output\n",
      "[0.66426152 0.44258144]\n",
      "Final Output\n",
      "[0.50949996]\n",
      "weight changes to input\n",
      "[[ 0.14959835 -0.07332081]\n",
      " [ 0.31986401 -0.0746493 ]]\n",
      "weight changes to hidden layer\n",
      "[[ 0.07322274]\n",
      " [-0.02402864]]\n"
     ]
    }
   ],
   "source": [
    "# A forward pass with hidden nodes.\n",
    "# 2 X 2 X 1 NN\n",
    "\n",
    "# Lets grab some info on X\n",
    "features = X[0].shape[0]\n",
    "hidden_nodes = 2\n",
    "output_nodes = 1\n",
    "\n",
    "# Create an empty weight matrix.\n",
    "# I need a weight for each input to hidden combo, and another weight for each hidden to output combo\n",
    "wih = np.random.normal(0, scale=0.1, size=(features, hidden_nodes ))\n",
    "print (\"weights input to hidden\")\n",
    "print (wih)\n",
    "who = np.random.normal(0, scale=0.1, size=(hidden_nodes, output_nodes))\n",
    "                       \n",
    "# Set up arrays\n",
    "inputs = np.array(X[0])\n",
    "\n",
    "# hidden output\n",
    "hidden_input = np.dot(inputs, wih)      \n",
    "hidden_output = sigmoid(hidden_input)                       \n",
    "                       \n",
    "# final output                       \n",
    "final_input = np.dot(hidden_output, who)\n",
    "final_output = sigmoid(final_input)                    \n",
    "\n",
    "print(\"Initialized Weights\")\n",
    "print(wih)\n",
    "print(who)\n",
    "print(\"inputs\")\n",
    "print(inputs)\n",
    "print(\"Hidden Output\")\n",
    "print(hidden_output)\n",
    "print(\"Final Output\")\n",
    "print(final_output)\n",
    "\n",
    "# A single backwards pass\n",
    "# find the error\n",
    "error = target - final_output\n",
    "\n",
    "# Multiply the error by the gradient\n",
    "output_error_term = error * prime(final_output)\n",
    "\n",
    "\n",
    "# here we take the error and work it backward by the weights.\n",
    "# So first we find the hidden error by getting the dot product of the \n",
    "# weights that got us the end error and the end error. So working backwards\n",
    "hidden_error = np.dot(output_error_term[0], who)\n",
    "# Then we find the hidden error term by using the hidden error and the gradient\n",
    "hidden_error_term = hidden_error * prime(hidden_output)\n",
    "\n",
    "# Finally we calculate the weight changes\n",
    "del_who = learnrate * output_error_term * hidden_output\n",
    "del_whi = learnrate * hidden_error_term * inputs[:,None]\n",
    "\n",
    "print(\"weight changes to input\")\n",
    "print(wih)\n",
    "print (\"weight changes to hidden layer\")\n",
    "print(who)"
   ]
  },
  {
   "cell_type": "code",
   "execution_count": null,
   "metadata": {},
   "outputs": [],
   "source": []
  }
 ],
 "metadata": {
  "kernelspec": {
   "display_name": "Python 3",
   "language": "python",
   "name": "python3"
  },
  "language_info": {
   "codemirror_mode": {
    "name": "ipython",
    "version": 3
   },
   "file_extension": ".py",
   "mimetype": "text/x-python",
   "name": "python",
   "nbconvert_exporter": "python",
   "pygments_lexer": "ipython3",
   "version": "3.6.7"
  }
 },
 "nbformat": 4,
 "nbformat_minor": 2
}
