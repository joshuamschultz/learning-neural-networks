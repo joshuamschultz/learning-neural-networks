{
 "cells": [
  {
   "cell_type": "code",
   "execution_count": 2,
   "metadata": {},
   "outputs": [],
   "source": [
    "import numpy as np\n",
    "\n",
    "import matplotlib.pyplot as plt\n",
    "plt.style.use('seaborn-whitegrid')\n",
    "\n",
    "from sklearn.datasets import make_blobs"
   ]
  },
  {
   "cell_type": "code",
   "execution_count": 3,
   "metadata": {},
   "outputs": [],
   "source": [
    "def sigmoid(X):\n",
    "    sigmoid_function = 1 / (1 + np.exp(-X))     \n",
    "    return sigmoid_function\n",
    "    "
   ]
  },
  {
   "cell_type": "code",
   "execution_count": 4,
   "metadata": {},
   "outputs": [],
   "source": [
    "def perceptron(X,W,b):\n",
    "    inputs = np.array(X)\n",
    "    weights = np.array(W)\n",
    "    bias = b\n",
    "    \n",
    "    prediction = inputs.dot(weights) + b\n",
    "    h = sigmoid(prediction)\n",
    "    \n",
    "    return h"
   ]
  },
  {
   "cell_type": "code",
   "execution_count": 5,
   "metadata": {},
   "outputs": [
    {
     "data": {
      "text/plain": [
       "<matplotlib.collections.PathCollection at 0x11f7f4a20>"
      ]
     },
     "execution_count": 5,
     "metadata": {},
     "output_type": "execute_result"
    },
    {
     "data": {
      "image/png": "[encoded data removed]",
      "text/plain": [
       "<Figure size 432x288 with 1 Axes>"
      ]
     },
     "metadata": {},
     "output_type": "display_data"
    }
   ],
   "source": [
    "X, y = make_blobs(50, 2, centers=2, random_state=2, cluster_std=2)\n",
    "W = [.38, 0.65]\n",
    "b = 3\n",
    "plt.scatter(X[:,0], X[:,1], c=y, s=30, cmap='RdBu')\n",
    "\n"
   ]
  },
  {
   "cell_type": "code",
   "execution_count": 6,
   "metadata": {},
   "outputs": [
    {
     "data": {
      "text/plain": [
       "array([0.98931293, 0.90365089, 0.0487838 , 0.01457247, 0.95832753,\n",
       "       0.91158225, 0.00749436, 0.00340903, 0.00222298, 0.88553449,\n",
       "       0.94932685, 0.74002771, 0.00623619, 0.27826097, 0.98923391,\n",
       "       0.97242819, 0.01468627, 0.97727756, 0.01254927, 0.01743446,\n",
       "       0.03278214, 0.98056939, 0.10560561, 0.00718131, 0.59431337,\n",
       "       0.0528826 , 0.97998303, 0.01772803, 0.01528444, 0.00355744,\n",
       "       0.16793468, 0.43771957, 0.57069272, 0.00471033, 0.92713622,\n",
       "       0.90823274, 0.9334949 , 0.93791674, 0.05632695, 0.99428526,\n",
       "       0.60582437, 0.99172393, 0.59785991, 0.04219199, 0.00866452,\n",
       "       0.60382068, 0.01077041, 0.92882957, 0.05000508, 0.53750983])"
      ]
     },
     "execution_count": 6,
     "metadata": {},
     "output_type": "execute_result"
    }
   ],
   "source": [
    "prediction = perceptron(X, W, b)\n",
    "prediction"
   ]
  },
  {
   "cell_type": "markdown",
   "metadata": {},
   "source": [
    "Now that we can se how far off a model is using an error term, we can adjust the weights in order to lower that error term.\n",
    "\n",
    "This is done by looking at the instantaneous rate of change of the error - at the current weight set respective to the current inputs.\n",
    "\n",
    "$$ \\Delta w = - gradient $$\n",
    "\n",
    "We find the slope, and then move down (negative) the slope. That change becomes our change in weights. Said another way\n",
    "\n",
    "$$ \\frac{\\delta E}{\\delta w_i} $$"
   ]
  },
  {
   "cell_type": "markdown",
   "metadata": {},
   "source": [
    "We can reduce the derivative of this function down to\n",
    "\n",
    "$$ - (y - \\hat{y}) f^\\prime(h) x_i $$"
   ]
  },
  {
   "cell_type": "markdown",
   "metadata": {},
   "source": [
    "This is the negative error multiplied by the prime of the sigmoid function, multiplied by the input.\n",
    "\n",
    "So taking that function, we can multiply it be a small numer representating a small step down that gradient, and we get \n",
    "\n",
    "$$ \\Delta w = \\eta (y - \\hat{y}) f^\\prime(h) x_i $$\n",
    "\n",
    "Where $\\eta$ is some small step known as the learning rate.\n",
    "\n",
    "(Note that we remove the negative because we need to move down the derative to improve the model and reduce the error.)"
   ]
  },
  {
   "cell_type": "markdown",
   "metadata": {},
   "source": [
    "So, our error term is\n",
    "$$ \\delta = (y - \\hat{y}) f^\\prime(h) $$\n",
    "And our full weight change is\n",
    "$$ w_i = w_i + \\eta \\delta \\ x_i $$"
   ]
  },
  {
   "cell_type": "code",
   "execution_count": 7,
   "metadata": {},
   "outputs": [],
   "source": [
    "# Setting functions\n",
    "\n",
    "def sigmoid(x):\n",
    "    return 1/(1+np.exp(-x))\n",
    "\n",
    "def sigmoid_prime(x):\n",
    "    return sigmoid(x) * (1 - sigmoid(x))"
   ]
  },
  {
   "cell_type": "code",
   "execution_count": 8,
   "metadata": {},
   "outputs": [],
   "source": [
    "# Setting variables\n",
    "learnrate = 0.5"
   ]
  },
  {
   "cell_type": "code",
   "execution_count": 9,
   "metadata": {},
   "outputs": [
    {
     "data": {
      "text/plain": [
       "array([[ 1.05097031e-04, -5.33949619e-03, -1.87354980e-03,\n",
       "         2.04841137e-04, -2.60660295e-04,  8.20316372e-04,\n",
       "         7.64644352e-06,  1.47982545e-05,  1.19987025e-05,\n",
       "         8.96976133e-04,  1.11413946e-03, -7.72083925e-02,\n",
       "         2.31309671e-05,  5.08042725e-02,  8.03581028e-05,\n",
       "         6.49419651e-04,  2.94959768e-04, -3.03813371e-04,\n",
       "         2.14902201e-05,  3.03355997e-04, -3.74525269e-04,\n",
       "         6.13866680e-04,  6.57518610e-03,  1.05538644e-04,\n",
       "         1.63363113e-01,  2.52567263e-03,  4.00873734e-04,\n",
       "         3.11776002e-05,  3.37976832e-04,  2.14123864e-05,\n",
       "         6.32657212e-03,  9.54472883e-03,  7.49670543e-02,\n",
       "         6.79001893e-05,  4.31732240e-03,  2.34925973e-03,\n",
       "         1.42936036e-04, -4.99072887e-04,  7.50941585e-03,\n",
       "         6.05224597e-05,  8.72887544e-03,  8.97530620e-05,\n",
       "        -2.09110333e-01,  4.89524777e-05,  2.85399085e-05,\n",
       "         1.12947001e-01,  1.74212202e-04, -5.84015146e-03,\n",
       "         1.52039886e-03, -2.08157405e-02],\n",
       "       [ 7.13666382e-05, -1.79253277e-03,  1.14917904e-02,\n",
       "         1.04148175e-03,  3.25656194e-04, -4.13540111e-03,\n",
       "         3.33687791e-04,  6.86615171e-05,  2.75253532e-05,\n",
       "        -9.03963217e-03, -7.81931754e-04, -3.00351612e-02,\n",
       "         2.26422591e-04,  1.40232812e-01,  8.71331174e-05,\n",
       "        -5.95096499e-05,  1.00557875e-03,  4.73148033e-04,\n",
       "         8.68503936e-04,  1.43811462e-03,  5.32382865e-03,\n",
       "        -9.65137001e-05,  3.55674146e-02,  2.50588788e-04,\n",
       "        -2.92498176e-01,  1.05145317e-02,  3.47516822e-05,\n",
       "         1.64756188e-03,  1.07039898e-03,  7.12451718e-05,\n",
       "         7.93408237e-02,  2.63785107e-01, -2.63520198e-01,\n",
       "         1.02198822e-04, -4.25242004e-03, -5.53742847e-03,\n",
       "        -1.22165492e-03, -5.00248877e-04,  9.01064948e-03,\n",
       "         1.85448218e-05, -1.91204992e-01,  4.08534500e-05,\n",
       "        -7.13748324e-02,  8.00142752e-03,  4.26409875e-04,\n",
       "        -2.54018705e-01,  5.61961667e-04,  1.85389102e-03,\n",
       "         9.97313883e-03, -2.39855954e-01]])"
      ]
     },
     "execution_count": 9,
     "metadata": {},
     "output_type": "execute_result"
    }
   ],
   "source": [
    "# Set up arrays\n",
    "inputs = np.array(X)\n",
    "weights = np.array(W)\n",
    "bias = b\n",
    "\n",
    "# Calculate Perceptron\n",
    "h = inputs.dot(weights) + b\n",
    "\n",
    "# Activate it\n",
    "prediction = sigmoid(h)\n",
    "\n",
    "# output Gradient\n",
    "gradient = sigmoid_prime(h)\n",
    "\n",
    "# Calculate error\n",
    "error = y - prediction\n",
    "error_term = error * gradient\n",
    "\n",
    "# Find changes in weights\n",
    "del_w = learnrate * error_term * inputs.T\n",
    "del_w\n"
   ]
  },
  {
   "cell_type": "code",
   "execution_count": null,
   "metadata": {},
   "outputs": [],
   "source": []
  }
 ],
 "metadata": {
  "kernelspec": {
   "display_name": "Python 3",
   "language": "python",
   "name": "python3"
  },
  "language_info": {
   "codemirror_mode": {
    "name": "ipython",
    "version": 3
   },
   "file_extension": ".py",
   "mimetype": "text/x-python",
   "name": "python",
   "nbconvert_exporter": "python",
   "pygments_lexer": "ipython3",
   "version": "3.6.7"
  }
 },
 "nbformat": 4,
 "nbformat_minor": 2
}
